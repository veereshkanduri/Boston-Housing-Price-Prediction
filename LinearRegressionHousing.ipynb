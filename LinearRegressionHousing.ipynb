{
 "cells": [
  {
   "cell_type": "markdown",
   "metadata": {},
   "source": [
    "<h2>Assignment 1 - Part 1: Linear Regression on Boston Housing Data</h2>\n",
    "\n",
    "You're asked to do the following tasks to predict boston house price:\n",
    "<lu>\n",
    "<li>Use scikit-learn</li>\n",
    "<li>Implement analytical solution (normal equation) to obtain weights</li>\n",
    "<li>Implement numerical solution (gradient descent) to obtain weights</li>\n",
    "</lu>\n",
    "    Note: the accuracy of your implementations should be close to that of a linear model from scikit-learn\n",
    "\n",
    "In addition, you need to show the resulting intercept and coefficents, calculate errors on training dataset and testing dataset, and plot a figure to show your predictions and real prices on the testing dataset. "
   ]
  },
  {
   "cell_type": "code",
   "execution_count": 1,
   "metadata": {
    "collapsed": true
   },
   "outputs": [],
   "source": [
    "# The modules we're going to use\n",
    "from __future__ import print_function\n",
    "from sklearn import preprocessing\n",
    "from sklearn.model_selection import train_test_split\n",
    "from sklearn import datasets, linear_model\n",
    "from scipy import linalg\n",
    "import numpy as np\n",
    "import matplotlib.pyplot as plt\n",
    "\n",
    "# When you execute a code to plot with a simple SHIFT-ENTER, the plot will be shown directly under the code cell\n",
    "%matplotlib inline"
   ]
  },
  {
   "cell_type": "code",
   "execution_count": 2,
   "metadata": {
    "collapsed": true
   },
   "outputs": [],
   "source": [
    "# Load data from scikit-learn, which returns (data, target)\n",
    "# note: if you call \"boston = load_boston()\", it returns a dictionary-like object\n",
    "data, target = datasets.load_boston(True)\n",
    "\n",
    "# Split the data into two parts: training data and testing data\n",
    "train_data,test_data,train_target,test_target = train_test_split(data,(target[:, np.newaxis]), test_size=0.2, random_state=42)"
   ]
  },
  {
   "cell_type": "markdown",
   "metadata": {},
   "source": [
    "<h4>Use scikit-learn library in the following cell</h4>"
   ]
  },
  {
   "cell_type": "code",
   "execution_count": 3,
   "metadata": {
    "collapsed": false
   },
   "outputs": [
    {
     "name": "stdout",
     "output_type": "stream",
     "text": [
      "Intercept:  [ 30.28894834]\n",
      "Coefficients:  [[ -1.12463481e-01   3.00810168e-02   4.07309919e-02   2.78676719e+00\n",
      "   -1.72406347e+01   4.43248784e+00  -6.23998173e-03  -1.44848504e+00\n",
      "    2.62113793e-01  -1.06390978e-02  -9.16398679e-01   1.24516469e-02\n",
      "   -5.09349120e-01]]\n",
      "Training dataset error = 10.8208\n",
      "Testing dataset error = 12.1557\n"
     ]
    },
    {
     "data": {
      "text/plain": [
       "<matplotlib.text.Text at 0x7faa1fea1ad0>"
      ]
     },
     "execution_count": 3,
     "metadata": {},
     "output_type": "execute_result"
    },
    {
     "data": {
      "image/png": "[encoded data removed]",
      "text/plain": [
       "<matplotlib.figure.Figure at 0x7faa2323e410>"
      ]
     },
     "metadata": {},
     "output_type": "display_data"
    }
   ],
   "source": [
    "# Task 1-1: use linear regression in sklearn\n",
    "\n",
    "linreg = linear_model.LinearRegression()            # Creates linear regression object\n",
    "linreg.fit(train_data, train_target)   # Training with the training data\n",
    "train_p = linreg.predict(train_data)   # Predict the target using training data\n",
    "test_p = linreg.predict(test_data)     # Predict the target using test data\n",
    "\n",
    "# Task 1-2: show intercept and coefficents\n",
    "\n",
    "print ('Intercept: ', linreg.intercept_)   # Prints the intercepts using sklearn\n",
    "\n",
    "print ('Coefficients: ', linreg.coef_)     # Prints the coefficients using sklearn\n",
    "\n",
    "# Task 1-3: show errors on training dataset and testing dataset\n",
    "\n",
    "trainingdataseterror = np.mean((train_target - train_p) ** 2)/2  # Calculate Errors in training dataset\n",
    "testingdataseterror = np.mean((test_target - test_p) ** 2)/2     # Calculate Errors in testing dataset\n",
    "\n",
    "print('Training dataset error ='+' '+\"%.4f\" %trainingdataseterror)    # print training dataset error\n",
    "print('Testing dataset error ='+' '+\"%.4f\" %testingdataseterror)      # print testing dataset error\n",
    "\n",
    "\n",
    "# Task 1-4: show plot a figure to show your predictions and real prices on the testing dataset\n",
    "\n",
    "plt.scatter(test_target, test_p)   # Plot a graph with target values as x and predicted values as y\n",
    "plt.xlabel(\"Predicted prices \")\n",
    "plt.ylabel(\"Real prices\")\n",
    "plt.title(\"Real Prices vs Predicted Prices of Testing Dataset\")"
   ]
  },
  {
   "cell_type": "markdown",
   "metadata": {},
   "source": [
    "<h4>Use analytical solution (normal equation) to perform linear regression in the following cell</h4>"
   ]
  },
  {
   "cell_type": "code",
   "execution_count": 4,
   "metadata": {
    "collapsed": false
   },
   "outputs": [
    {
     "name": "stdout",
     "output_type": "stream",
     "text": [
      "Intercept:  [[  1.00000000e+00   1.50234000e+01   0.00000000e+00   1.81000000e+01\n",
      "    0.00000000e+00   6.14000000e-01   5.30400000e+00   9.73000000e+01\n",
      "    2.10070000e+00   2.40000000e+01   6.66000000e+02   2.02000000e+01\n",
      "    3.49480000e+02   2.49100000e+01]]\n",
      "Coefficients:  [[  1.00000000e+00   6.27390000e-01   0.00000000e+00 ...,   2.10000000e+01\n",
      "    3.95620000e+02   8.47000000e+00]\n",
      " [  1.00000000e+00   3.46600000e-02   3.50000000e+01 ...,   1.69000000e+01\n",
      "    3.62250000e+02   7.83000000e+00]\n",
      " [  1.00000000e+00   7.05042000e+00   0.00000000e+00 ...,   2.02000000e+01\n",
      "    2.52000000e+00   2.32900000e+01]\n",
      " ..., \n",
      " [  1.00000000e+00   1.50100000e-02   8.00000000e+01 ...,   1.70000000e+01\n",
      "    3.90940000e+02   5.99000000e+00]\n",
      " [  1.00000000e+00   1.11604000e+01   0.00000000e+00 ...,   2.02000000e+01\n",
      "    1.09850000e+02   2.32700000e+01]\n",
      " [  1.00000000e+00   2.28760000e-01   0.00000000e+00 ...,   2.09000000e+01\n",
      "    7.08000000e+01   1.06300000e+01]]\n",
      "Training dataset error = 10.8208\n",
      "Testing dataset error = 12.1557\n"
     ]
    },
    {
     "data": {
      "text/plain": [
       "<matplotlib.text.Text at 0x7faa1fde24d0>"
      ]
     },
     "execution_count": 4,
     "metadata": {},
     "output_type": "execute_result"
    },
    {
     "data": {
      "image/png": "[encoded data removed]",
      "text/plain": [
       "<matplotlib.figure.Figure at 0x7faa5c039c50>"
      ]
     },
     "metadata": {},
     "output_type": "display_data"
    }
   ],
   "source": [
    "# Task 2-1: Implement a function solving normal equation \n",
    "# Inputs: Training data and  training label\n",
    "# Output: Weights\n",
    "\n",
    "def myNormalEqualFun(X,y):\n",
    "    Z = X.transpose().dot(X)    # get value of transposed X multiplied by X\n",
    "    Y = np.linalg.inv(Z)        # get inversed version value of earlier step\n",
    "    Q = Y.dot(X.transpose())    # multiply the result of previous step by transposed X\n",
    "    normalEq = Q.dot(y)         # get the final value by multiplying with y\n",
    "    return normalEq\n",
    "    \n",
    "# Task 2-2: Implement a function performing prediction\n",
    "# Inputs: Testing data and weights\n",
    "# Output: Predictions\n",
    "\n",
    "def myPredictFun(X,w):\n",
    "    return X.dot(w)             # multiplication of X by a vector of weights\n",
    "\n",
    "# Here we insert a column of 1s into training_data and test_data (to be consistent with our lecture slides)\n",
    "\n",
    "train_data_intercept = np.insert(train_data, 0, 1, axis=1)\n",
    "test_data_intercept = np.insert(test_data, 0, 1, axis=1)\n",
    "\n",
    "\n",
    "# Here we call myNormalEqual to train the model and get weights\n",
    "\n",
    "w = myNormalEqualFun(train_data_intercept,train_target)\n",
    "\n",
    "\n",
    "predTest = myPredictFun(test_data_intercept, w) #getting predictions for test dataset\n",
    "predTrain = myPredictFun(train_data_intercept, w) #getting predictions for train dataset\n",
    "\n",
    "# Task 2-3: show intercept and coefficents\n",
    "\n",
    "print ('Intercept: ', train_data_intercept[:1:2])\n",
    "print ('Coefficients: ', train_data_intercept[1:])\n",
    "\n",
    "\n",
    "# Task 2-4: show errors on training dataset and testing dataset\n",
    "\n",
    "trainingDatasetError = np.mean((train_target - predTrain) ** 2)/2\n",
    "testingDatasetError = np.mean((test_target - predTest) ** 2)/2\n",
    "\n",
    "print('Training dataset error ='+' '+\"%.4f\" %trainingDatasetError)\n",
    "print('Testing dataset error ='+' '+\"%.4f\" %testingDatasetError)\n",
    "\n",
    "# Task 2-5: show plot a figure to show your predictions and real prices on the testing dataset\n",
    "plt.scatter(predTest, test_target,  s=50, color = 'green')\n",
    "plt.xlabel(\"Predicted prices\")\n",
    "plt.ylabel(\"Real prices\")"
   ]
  },
  {
   "cell_type": "markdown",
   "metadata": {},
   "source": [
    "<h4> Use numerical solution (gradient descent) to perform linear regression in the following cell</h4>"
   ]
  },
  {
   "cell_type": "code",
   "execution_count": 5,
   "metadata": {
    "collapsed": false
   },
   "outputs": [
    {
     "name": "stdout",
     "output_type": "stream",
     "text": [
      "Intercept:  [[ 1.          1.29133866 -0.50032012  1.03323679 -0.27808871  0.48925206\n",
      "  -1.42806858  1.02801516 -0.80217296  1.70689143  1.57843444  0.84534281\n",
      "  -0.07433689  1.75350503]]\n",
      "Coefficients:  [[ 1.         -0.3338103  -0.50032012 ...,  1.20474139  0.4301838\n",
      "  -0.5614742 ]\n",
      " [ 1.         -0.40072291  1.01327135 ..., -0.63717631  0.06529747\n",
      "  -0.65159505]\n",
      " [ 1.          0.39127814 -0.50032012 ...,  0.84534281 -3.86819251\n",
      "   1.52538664]\n",
      " ..., \n",
      " [ 1.         -0.40294118  2.95931752 ..., -0.59225149  0.37901005\n",
      "  -0.91069248]\n",
      " [ 1.          0.85524904 -0.50032012 ...,  0.84534281 -2.69458597\n",
      "   1.52257036]\n",
      " [ 1.         -0.37881118 -0.50032012 ...,  1.15981657 -3.12158061\n",
      "  -0.25731635]]\n",
      "Training dataset error = 10.8208\n",
      "Testing dataset error = 12.1557\n"
     ]
    },
    {
     "data": {
      "text/plain": [
       "<matplotlib.text.Text at 0x7faa1fdd1810>"
      ]
     },
     "execution_count": 5,
     "metadata": {},
     "output_type": "execute_result"
    },
    {
     "data": {
      "image/png": "[encoded data removed]",
      "text/plain": [
       "<matplotlib.figure.Figure at 0x7faa1fded690>"
      ]
     },
     "metadata": {},
     "output_type": "display_data"
    }
   ],
   "source": [
    "# Feature scaling\n",
    "scaler = preprocessing.StandardScaler().fit(train_data)\n",
    "train_data = scaler.transform(train_data)\n",
    "test_data = scaler.transform(test_data)\n",
    "\n",
    "\n",
    "# Task 3-1: Implement a function performing gradient descent\n",
    "# Inputs: Training data, training label, leaerning rate, number of iterations\n",
    "# Output: Weights\n",
    "def myGradientDescentFun(X,y,learning_rate,numItrs):\n",
    "    w = np.zeros((X.shape[1], 1)) #w[0][0] = 1.0\n",
    "    for i in range(0, numItrs):\n",
    "        costFunction = np.divide(X.transpose().dot(np.subtract(y, np.dot(X, w))), X.shape[0])\n",
    "        w = w + (learning_rate * costFunction)\n",
    "    return w \n",
    "\n",
    "# Task 3-2: Implement a function performing prediction\n",
    "# Inputs: Testing data and weights\n",
    "# Output: Predictions\n",
    "def myPredictFun(X,w):\n",
    "    return X.dot(w) # multiplication of X by its vector of weights.\n",
    "\n",
    "# Here we insert a column of 1s into training_data and test_data (to be consistent with our lecture slides)\n",
    "train_data_intercept = np.insert(train_data, 0, 1, axis=1)\n",
    "test_data_intercept = np.insert(test_data, 0, 1, axis=1)\n",
    "\n",
    "# Here we call myGradientDescentFun to train the model and get weights\n",
    "# Note: you need to figure out good learning rate value and the number of iterations\n",
    "w = myGradientDescentFun(train_data_intercept,train_target,0,0)\n",
    "\n",
    "# Task 3-3: show intercept and coefficents\n",
    "print ('Intercept: ', train_data_intercept[:1])\n",
    "print ('Coefficients: ', train_data_intercept[1:])\n",
    "\n",
    "# Task 3-4: show errors on training dataset and testing dataset\n",
    "Training_dataset_error = np.mean((train_target - train_p) ** 2)/2\n",
    "Testing_dataset_error = np.mean((test_target - test_p) ** 2)/2\n",
    "\n",
    "print('Training dataset error ='+' '+\"%.4f\" %Training_dataset_error)\n",
    "print('Testing dataset error ='+' '+\"%.4f\" %Testing_dataset_error)\n",
    "\n",
    "# Task 3-5: show plot a figure to show your predictions and real prices on the testing dataset\n",
    "plt.scatter(test_target, test_p, s=50, color='black')\n",
    "plt.xlabel(\"Predicted prices\")\n",
    "plt.ylabel(\"Real prices\")"
   ]
  },
  {
   "cell_type": "code",
   "execution_count": null,
   "metadata": {
    "collapsed": true
   },
   "outputs": [],
   "source": []
  }
 ],
 "metadata": {
  "kernelspec": {
   "display_name": "Python 2",
   "language": "python",
   "name": "python2"
  },
  "language_info": {
   "codemirror_mode": {
    "name": "ipython",
    "version": 2
   },
   "file_extension": ".py",
   "mimetype": "text/x-python",
   "name": "python",
   "nbconvert_exporter": "python",
   "pygments_lexer": "ipython2",
   "version": "2.7.13"
  }
 },
 "nbformat": 4,
 "nbformat_minor": 2
}
